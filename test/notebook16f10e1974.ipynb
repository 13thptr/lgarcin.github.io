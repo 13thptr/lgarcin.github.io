{
 "cells": [
  {
   "cell_type": "code",
   "execution_count": 1,
   "id": "d2278d34",
   "metadata": {
    "execution": {
     "iopub.execute_input": "2023-03-16T21:07:32.967500Z",
     "iopub.status.busy": "2023-03-16T21:07:32.966518Z",
     "iopub.status.idle": "2023-03-16T21:07:32.979069Z",
     "shell.execute_reply": "2023-03-16T21:07:32.977835Z"
    },
    "papermill": {
     "duration": 0.020403,
     "end_time": "2023-03-16T21:07:32.981665",
     "exception": false,
     "start_time": "2023-03-16T21:07:32.961262",
     "status": "completed"
    },
    "tags": []
   },
   "outputs": [],
   "source": [
    "import numpy as np"
   ]
  },
  {
   "cell_type": "code",
   "execution_count": 2,
   "id": "e1099cc1",
   "metadata": {
    "execution": {
     "iopub.execute_input": "2023-03-16T21:07:32.988805Z",
     "iopub.status.busy": "2023-03-16T21:07:32.988265Z",
     "iopub.status.idle": "2023-03-16T21:07:32.998540Z",
     "shell.execute_reply": "2023-03-16T21:07:32.997309Z"
    },
    "papermill": {
     "duration": 0.017078,
     "end_time": "2023-03-16T21:07:33.001206",
     "exception": false,
     "start_time": "2023-03-16T21:07:32.984128",
     "status": "completed"
    },
    "tags": []
   },
   "outputs": [],
   "source": [
    "def QR_decomposition(A):\n",
    "    Q = np.zeros_like(A)\n",
    "    R = np.zeros_like(A)\n",
    "    for i in range(A.shape[1]):\n",
    "        dp = [np.dot(A[:, i], Q[:, j]) for j in range(i)]\n",
    "        R[:i, i] = dp\n",
    "        Q[:, i] = A[:, i]-sum(dp[j]*Q[:, j] for j in range(i))\n",
    "        Q[:, i] = Q[:, i]/np.linalg.norm(Q[:, i])\n",
    "        R[i, i] = np.dot(A[:, i], Q[:, i])\n",
    "    return Q, R\n"
   ]
  },
  {
   "cell_type": "code",
   "execution_count": 3,
   "id": "31ccc3ad",
   "metadata": {
    "execution": {
     "iopub.execute_input": "2023-03-16T21:07:33.007170Z",
     "iopub.status.busy": "2023-03-16T21:07:33.006643Z",
     "iopub.status.idle": "2023-03-16T21:07:33.024004Z",
     "shell.execute_reply": "2023-03-16T21:07:33.023126Z"
    },
    "papermill": {
     "duration": 0.023581,
     "end_time": "2023-03-16T21:07:33.026963",
     "exception": false,
     "start_time": "2023-03-16T21:07:33.003382",
     "status": "completed"
    },
    "tags": []
   },
   "outputs": [
    {
     "data": {
      "text/plain": [
       "(0.00010000000000000009,\n",
       " array([[ 5.81180069e-01, -8.13774986e-01, -2.76336273e-12],\n",
       "        [ 5.75425811e-01,  4.10956368e-01, -7.07106781e-01],\n",
       "        [ 5.75425811e-01,  4.10956368e-01,  7.07106781e-01]]),\n",
       " array([[1.73784349, 1.73203169, 1.73778595],\n",
       "        [0.        , 0.00813775, 0.01224731],\n",
       "        [0.        , 0.        , 0.00707107]]),\n",
       " array([[ 1.00000000e+00, -1.38816872e-14,  3.83133449e-14],\n",
       "        [-1.38816872e-14,  1.00000000e+00,  3.42310575e-12],\n",
       "        [ 3.83133449e-14,  3.42310575e-12,  1.00000000e+00]]),\n",
       " array([[1.01, 1.  , 1.  ],\n",
       "        [1.  , 1.  , 1.  ],\n",
       "        [1.  , 1.  , 1.01]]),\n",
       " array([[1.01, 1.  , 1.  ],\n",
       "        [1.  , 1.  , 1.  ],\n",
       "        [1.  , 1.  , 1.01]]))"
      ]
     },
     "execution_count": 3,
     "metadata": {},
     "output_type": "execute_result"
    }
   ],
   "source": [
    "A = np.array([[12, -51, 4], [6, 167, -68], [-4, 24, -41]], dtype=float)\n",
    "eps = .01\n",
    "A = np.array([[1+eps, 1, 1], [1, 1, 1], [1, 1, 1+eps]])\n",
    "Q, R = QR_decomposition(A)\n",
    "np.linalg.det(A), Q, R, Q.T.dot(Q), Q.dot(R), A\n"
   ]
  },
  {
   "cell_type": "code",
   "execution_count": 4,
   "id": "caad81c9",
   "metadata": {
    "execution": {
     "iopub.execute_input": "2023-03-16T21:07:33.033633Z",
     "iopub.status.busy": "2023-03-16T21:07:33.032622Z",
     "iopub.status.idle": "2023-03-16T21:07:33.050674Z",
     "shell.execute_reply": "2023-03-16T21:07:33.049452Z"
    },
    "papermill": {
     "duration": 0.023759,
     "end_time": "2023-03-16T21:07:33.053093",
     "exception": false,
     "start_time": "2023-03-16T21:07:33.029334",
     "status": "completed"
    },
    "tags": []
   },
   "outputs": [
    {
     "data": {
      "text/plain": [
       "(array([[-5.81180069e-01,  8.13774986e-01,  3.30836419e-17],\n",
       "        [-5.75425811e-01, -4.10956368e-01, -7.07106781e-01],\n",
       "        [-5.75425811e-01, -4.10956368e-01,  7.07106781e-01]]),\n",
       " array([[-1.73784349, -1.73203169, -1.73778595],\n",
       "        [ 0.        , -0.00813775, -0.01224731],\n",
       "        [ 0.        ,  0.        ,  0.00707107]]))"
      ]
     },
     "execution_count": 4,
     "metadata": {},
     "output_type": "execute_result"
    }
   ],
   "source": [
    "np.linalg.qr(A)"
   ]
  },
  {
   "cell_type": "code",
   "execution_count": null,
   "id": "f5ddb9bb",
   "metadata": {
    "papermill": {
     "duration": 0.002537,
     "end_time": "2023-03-16T21:07:33.058147",
     "exception": false,
     "start_time": "2023-03-16T21:07:33.055610",
     "status": "completed"
    },
    "tags": []
   },
   "outputs": [],
   "source": []
  }
 ],
 "metadata": {
  "kernelspec": {
   "display_name": "Python 3",
   "language": "python",
   "name": "python3"
  },
  "language_info": {
   "codemirror_mode": {
    "name": "ipython",
    "version": 3
   },
   "file_extension": ".py",
   "mimetype": "text/x-python",
   "name": "python",
   "nbconvert_exporter": "python",
   "pygments_lexer": "ipython3",
   "version": "3.7.12"
  },
  "papermill": {
   "default_parameters": {},
   "duration": 10.383926,
   "end_time": "2023-03-16T21:07:33.682267",
   "environment_variables": {},
   "exception": null,
   "input_path": "__notebook__.ipynb",
   "output_path": "__notebook__.ipynb",
   "parameters": {},
   "start_time": "2023-03-16T21:07:23.298341",
   "version": "2.4.0"
  }
 },
 "nbformat": 4,
 "nbformat_minor": 5
}
