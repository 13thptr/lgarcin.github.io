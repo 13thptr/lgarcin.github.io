{
 "cells": [
  {
   "cell_type": "code",
   "execution_count": 1,
   "metadata": {},
   "outputs": [],
   "source": [
    "from sympy import *\n",
    "from sympy.physics.vector import *"
   ]
  },
  {
   "cell_type": "code",
   "execution_count": 2,
   "metadata": {},
   "outputs": [],
   "source": [
    "N=ReferenceFrame('N')"
   ]
  },
  {
   "cell_type": "code",
   "execution_count": 3,
   "metadata": {},
   "outputs": [],
   "source": [
    "ϕ,θ,a,b,r=symbols('ϕ θ a b r')"
   ]
  },
  {
   "cell_type": "code",
   "execution_count": 4,
   "metadata": {},
   "outputs": [],
   "source": [
    "P=(a*θ+r*cos(ϕ))*cos(θ)*N.x+(a*θ+r*cos(ϕ))*sin(θ)*N.y+(b*θ+r*sin(ϕ))*N.z"
   ]
  },
  {
   "cell_type": "code",
   "execution_count": 8,
   "metadata": {},
   "outputs": [
    {
     "data": {
      "text/latex": [
       "$\\displaystyle r \\left(b \\operatorname{sin}\\left(θ\\right) \\operatorname{sin}\\left(ϕ\\right) + \\left(a \\operatorname{sin}\\left(θ\\right) + \\left(a θ + r \\operatorname{cos}\\left(ϕ\\right)\\right) \\operatorname{cos}\\left(θ\\right)\\right) \\operatorname{cos}\\left(ϕ\\right)\\right)\\mathbf{\\hat{n}_x} -  r \\left(b \\operatorname{sin}\\left(ϕ\\right) \\operatorname{cos}\\left(θ\\right) + \\left(a \\operatorname{cos}\\left(θ\\right) - \\left(a θ + r \\operatorname{cos}\\left(ϕ\\right)\\right) \\operatorname{sin}\\left(θ\\right)\\right) \\operatorname{cos}\\left(ϕ\\right)\\right)\\mathbf{\\hat{n}_y} + r \\left(a θ + r \\operatorname{cos}\\left(ϕ\\right)\\right) \\operatorname{sin}\\left(ϕ\\right)\\mathbf{\\hat{n}_z}$"
      ],
      "text/plain": [
       "r*(b*sin(θ)*sin(ϕ) + (a*sin(θ) + (a*θ + r*cos(ϕ))*cos(θ))*cos(ϕ))*N.x - r*(b*sin(ϕ)*cos(θ) + (a*cos(θ) - (a*θ + r*cos(ϕ))*sin(θ))*cos(ϕ))*N.y + r*(a*θ + r*cos(ϕ))*sin(ϕ)*N.z"
      ]
     },
     "execution_count": 8,
     "metadata": {},
     "output_type": "execute_result"
    }
   ],
   "source": [
    "diff(P,θ,N).cross(diff(P,ϕ,N)).simplify()"
   ]
  },
  {
   "cell_type": "code",
   "execution_count": null,
   "metadata": {},
   "outputs": [],
   "source": []
  }
 ],
 "metadata": {
  "kernelspec": {
   "display_name": "Python 3.8.2 64-bit",
   "language": "python",
   "name": "python38264bit11908abab69f42d3a9361a8cb8660175"
  },
  "language_info": {
   "codemirror_mode": {
    "name": "ipython",
    "version": 3
   },
   "file_extension": ".py",
   "mimetype": "text/x-python",
   "name": "python",
   "nbconvert_exporter": "python",
   "pygments_lexer": "ipython3",
   "version": "3.8.5"
  }
 },
 "nbformat": 4,
 "nbformat_minor": 2
}
