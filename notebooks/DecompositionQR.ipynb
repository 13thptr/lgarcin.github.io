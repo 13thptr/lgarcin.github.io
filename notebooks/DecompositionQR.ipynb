{
 "cells": [
  {
   "cell_type": "code",
   "execution_count": 2,
   "metadata": {},
   "outputs": [],
   "source": [
    "import numpy as np"
   ]
  },
  {
   "cell_type": "code",
   "execution_count": 3,
   "metadata": {},
   "outputs": [],
   "source": [
    "A = np.matrix([[12, -51, 4], [6, 167, -68], [-4, 24, -41]], dtype=float)"
   ]
  },
  {
   "cell_type": "code",
   "execution_count": 4,
   "metadata": {},
   "outputs": [],
   "source": [
    "def QR_gram_schmidt(A):\n",
    "    Q = np.zeros_like(A)\n",
    "    R = np.zeros_like(A)\n",
    "    for i in range(A.shape[1]):\n",
    "        dp = Q[:, :i].T@A[:, i]\n",
    "        R[:i, i] = dp\n",
    "        Q[:, i] = A[:, i]-Q[:, :i]@dp\n",
    "        Q[:, i] = Q[:, i]/np.linalg.norm(Q[:, i])\n",
    "        R[i, i] = Q[:, i].T@A[:, i]\n",
    "    return Q, R\n"
   ]
  },
  {
   "cell_type": "code",
   "execution_count": 5,
   "metadata": {},
   "outputs": [
    {
     "data": {
      "text/plain": [
       "(matrix([[ 0.85714286, -0.39428571, -0.33142857],\n",
       "         [ 0.42857143,  0.90285714,  0.03428571],\n",
       "         [-0.28571429,  0.17142857, -0.94285714]]),\n",
       " matrix([[ 14.,  21., -14.],\n",
       "         [  0., 175., -70.],\n",
       "         [  0.,   0.,  35.]]),\n",
       " matrix([[ 1.00000000e+00, -4.18882616e-17, -3.08143533e-17],\n",
       "         [-4.18882616e-17,  1.00000000e+00,  8.01852915e-17],\n",
       "         [-3.08143533e-17,  8.01852915e-17,  1.00000000e+00]]),\n",
       " matrix([[ 12., -51.,   4.],\n",
       "         [  6., 167., -68.],\n",
       "         [ -4.,  24., -41.]]),\n",
       " matrix([[ 12., -51.,   4.],\n",
       "         [  6., 167., -68.],\n",
       "         [ -4.,  24., -41.]]))"
      ]
     },
     "execution_count": 5,
     "metadata": {},
     "output_type": "execute_result"
    }
   ],
   "source": [
    "Q, R = QR_gram_schmidt(A)\n",
    "Q, R, Q.T.dot(Q), Q.dot(R), A"
   ]
  },
  {
   "cell_type": "code",
   "execution_count": 6,
   "metadata": {},
   "outputs": [],
   "source": [
    "def matrice_householder(U):\n",
    "    return np.eye(U.shape[0]) - 2 * (U@U.T) / (U.T@U)"
   ]
  },
  {
   "cell_type": "code",
   "execution_count": 7,
   "metadata": {},
   "outputs": [],
   "source": [
    "def QR_householder(A):\n",
    "    n = A.shape[0]\n",
    "    R = A.copy()\n",
    "    Q = np.eye(n)\n",
    "    for k in range(n):\n",
    "        U = R[k:, k].copy()\n",
    "        norme_U = np.linalg.norm(U)\n",
    "        if U[0] != norme_U:\n",
    "            U[0] -= norme_U\n",
    "            S = matrice_householder(U)\n",
    "            Q[:, k:] = Q[:, k:]@S\n",
    "            R[k:, :] = S@R[k:, :]\n",
    "    return Q, R\n"
   ]
  },
  {
   "cell_type": "code",
   "execution_count": 8,
   "metadata": {},
   "outputs": [],
   "source": [
    "def QR_householder_recu(A):\n",
    "    if A.shape[0] == 1:\n",
    "        return (np.matrix([[1]]), A) if A[0, 0] > 0 else (np.matrix([[-1]]), -A)\n",
    "    U = A[:, 0].copy()\n",
    "    norme_U = np.linalg.norm(U)\n",
    "    if U[0] != norme_U:\n",
    "        U[0] -= norme_U\n",
    "        Q = matrice_householder(U)\n",
    "        R = Q@A\n",
    "    else:\n",
    "        Q = np.eye(A.shape[0])\n",
    "        R = A\n",
    "    Q1, R1 = QR_householder_recu(R[1:, 1:])\n",
    "    Q[:, 1:] = Q[:, 1:]@Q1\n",
    "    R[1:, 1:] = R1\n",
    "    return Q, R\n"
   ]
  },
  {
   "cell_type": "code",
   "execution_count": 9,
   "metadata": {},
   "outputs": [],
   "source": [
    "A = np.matrix([[12, -51, 4], [6, 167, -68], [-4, 24, -41]], dtype=float)\n"
   ]
  },
  {
   "cell_type": "code",
   "execution_count": 10,
   "metadata": {},
   "outputs": [
    {
     "data": {
      "text/plain": [
       "(matrix([[ 0.85714286, -0.39428571, -0.33142857],\n",
       "         [ 0.42857143,  0.90285714,  0.03428571],\n",
       "         [-0.28571429,  0.17142857, -0.94285714]]),\n",
       " matrix([[ 1.40000000e+01,  2.10000000e+01, -1.40000000e+01],\n",
       "         [-8.88178420e-16,  1.75000000e+02, -7.00000000e+01],\n",
       "         [-2.22044605e-16,  1.81188398e-15,  3.50000000e+01]]))"
      ]
     },
     "execution_count": 10,
     "metadata": {},
     "output_type": "execute_result"
    }
   ],
   "source": [
    "QR_householder_recu(A)\n"
   ]
  },
  {
   "cell_type": "code",
   "execution_count": null,
   "metadata": {},
   "outputs": [],
   "source": []
  }
 ],
 "metadata": {
  "kernelspec": {
   "display_name": "Python 3",
   "language": "python",
   "name": "python3"
  },
  "language_info": {
   "codemirror_mode": {
    "name": "ipython",
    "version": 3
   },
   "file_extension": ".py",
   "mimetype": "text/x-python",
   "name": "python",
   "nbconvert_exporter": "python",
   "pygments_lexer": "ipython3",
   "version": "3.11.2"
  },
  "orig_nbformat": 4,
  "vscode": {
   "interpreter": {
    "hash": "98b374e99358913c1c42b6b370ad32794c013153bdea03f97f4485417b03b617"
   }
  }
 },
 "nbformat": 4,
 "nbformat_minor": 2
}
