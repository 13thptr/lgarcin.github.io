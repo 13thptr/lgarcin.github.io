{
 "cells": [
  {
   "cell_type": "code",
   "execution_count": 5,
   "metadata": {},
   "outputs": [],
   "source": [
    "import numpy as np\n"
   ]
  },
  {
   "cell_type": "code",
   "execution_count": 69,
   "metadata": {},
   "outputs": [],
   "source": [
    "def QR_gram_schmidt(A):\n",
    "    Q = np.zeros_like(A)\n",
    "    R = np.zeros_like(A)\n",
    "    for i in range(A.shape[1]):\n",
    "        dp = [np.dot(A[:, i], Q[:, j]) for j in range(i)]\n",
    "        R[:i, i] = dp\n",
    "        Q[:, i] = A[:, i]-sum(dp[j]*Q[:, j] for j in range(i))\n",
    "        Q[:, i] = Q[:, i]/np.linalg.norm(Q[:, i])\n",
    "        R[i, i] = np.dot(A[:, i], Q[:, i])\n",
    "    return Q, R\n"
   ]
  },
  {
   "cell_type": "code",
   "execution_count": 81,
   "metadata": {},
   "outputs": [
    {
     "data": {
      "text/plain": [
       "(0.00010000000000000009,\n",
       " array([[ 5.81180069e-01, -8.13774986e-01, -2.76336273e-12],\n",
       "        [ 5.75425811e-01,  4.10956368e-01, -7.07106781e-01],\n",
       "        [ 5.75425811e-01,  4.10956368e-01,  7.07106781e-01]]),\n",
       " array([[1.73784349, 1.73203169, 1.73778595],\n",
       "        [0.        , 0.00813775, 0.01224731],\n",
       "        [0.        , 0.        , 0.00707107]]),\n",
       " array([[ 1.00000000e+00, -1.38816872e-14,  3.83133449e-14],\n",
       "        [-1.38816872e-14,  1.00000000e+00,  3.42310575e-12],\n",
       "        [ 3.83133449e-14,  3.42310575e-12,  1.00000000e+00]]),\n",
       " array([[1.01, 1.  , 1.  ],\n",
       "        [1.  , 1.  , 1.  ],\n",
       "        [1.  , 1.  , 1.01]]),\n",
       " array([[1.01, 1.  , 1.  ],\n",
       "        [1.  , 1.  , 1.  ],\n",
       "        [1.  , 1.  , 1.01]]))"
      ]
     },
     "execution_count": 81,
     "metadata": {},
     "output_type": "execute_result"
    }
   ],
   "source": [
    "A = np.array([[12, -51, 4], [6, 167, -68], [-4, 24, -41]], dtype=float)\n",
    "eps = .01\n",
    "A = np.array([[1+eps, 1, 1], [1, 1, 1], [1, 1, 1+eps]])\n",
    "Q, R = QR_gram_schmidt(A)\n",
    "np.linalg.det(A), Q, R, Q.T.dot(Q), Q.dot(R), A\n"
   ]
  },
  {
   "cell_type": "code",
   "execution_count": 82,
   "metadata": {},
   "outputs": [
    {
     "data": {
      "text/plain": [
       "(array([[-5.81180069e-01,  8.13774986e-01,  3.30836419e-17],\n",
       "        [-5.75425811e-01, -4.10956368e-01, -7.07106781e-01],\n",
       "        [-5.75425811e-01, -4.10956368e-01,  7.07106781e-01]]),\n",
       " array([[-1.73784349, -1.73203169, -1.73778595],\n",
       "        [ 0.        , -0.00813775, -0.01224731],\n",
       "        [ 0.        ,  0.        ,  0.00707107]]))"
      ]
     },
     "execution_count": 82,
     "metadata": {},
     "output_type": "execute_result"
    }
   ],
   "source": [
    "np.linalg.qr(A)\n"
   ]
  },
  {
   "cell_type": "code",
   "execution_count": 2,
   "metadata": {},
   "outputs": [],
   "source": [
    "def matrice_householder(U):\n",
    "    return np.eye(U.shape[0]) - 2 * (U@U.T) / (U.T@U)\n"
   ]
  },
  {
   "cell_type": "code",
   "execution_count": null,
   "metadata": {},
   "outputs": [],
   "source": [
    "def QR_householder(A):\n",
    "    n = A.shape[0]\n",
    "    R = A.copy()\n",
    "    Q = np.eye(n)\n",
    "    for k in range(n):\n",
    "        U = R[k:, k].copy()\n",
    "        norme_U = np.linalg.norm(U)\n",
    "        if U[0] != norme_U:\n",
    "            U[0] -= norme_U\n",
    "            S = matrice_householder(U)\n",
    "            Q[:, k:] = Q[:, k:]@S\n",
    "            R[k:, :] = S@R[k:, :]\n",
    "    return Q, R\n"
   ]
  },
  {
   "cell_type": "code",
   "execution_count": 8,
   "metadata": {},
   "outputs": [],
   "source": [
    "def QR_householder_recu(A):\n",
    "    if A.shape[0] == 1:\n",
    "        return (np.matrix([[1]]), A) if A[0, 0] > 0 else (np.matrix([[-1]]), -A)\n",
    "    U = A[:, 0].copy()\n",
    "    norme_U = np.linalg.norm(U)\n",
    "    if U[0] != norme_U:\n",
    "        U[0] -= norme_U\n",
    "        Q = matrice_householder(U)\n",
    "        R = Q@A\n",
    "    else:\n",
    "        Q = np.eye(A.shape[0])\n",
    "        R = A\n",
    "    Q1, R1 = QR_householder_recu(R[1:, 1:])\n",
    "    Q[:, 1:] = Q[:, 1:]@Q1\n",
    "    R[1:, 1:] = R1\n",
    "    return Q, R\n"
   ]
  },
  {
   "cell_type": "code",
   "execution_count": 9,
   "metadata": {},
   "outputs": [],
   "source": [
    "A = np.matrix([[12, -51, 4], [6, 167, -68], [-4, 24, -41]], dtype=float)\n"
   ]
  },
  {
   "cell_type": "code",
   "execution_count": 10,
   "metadata": {},
   "outputs": [
    {
     "data": {
      "text/plain": [
       "(matrix([[ 0.85714286, -0.39428571, -0.33142857],\n",
       "         [ 0.42857143,  0.90285714,  0.03428571],\n",
       "         [-0.28571429,  0.17142857, -0.94285714]]),\n",
       " matrix([[ 1.40000000e+01,  2.10000000e+01, -1.40000000e+01],\n",
       "         [-8.88178420e-16,  1.75000000e+02, -7.00000000e+01],\n",
       "         [-2.22044605e-16,  1.81188398e-15,  3.50000000e+01]]))"
      ]
     },
     "execution_count": 10,
     "metadata": {},
     "output_type": "execute_result"
    }
   ],
   "source": [
    "QR_householder_recu(A)\n"
   ]
  },
  {
   "cell_type": "code",
   "execution_count": null,
   "metadata": {},
   "outputs": [],
   "source": []
  }
 ],
 "metadata": {
  "kernelspec": {
   "display_name": "Python 3",
   "language": "python",
   "name": "python3"
  },
  "language_info": {
   "codemirror_mode": {
    "name": "ipython",
    "version": 3
   },
   "file_extension": ".py",
   "mimetype": "text/x-python",
   "name": "python",
   "nbconvert_exporter": "python",
   "pygments_lexer": "ipython3",
   "version": "3.11.2"
  },
  "orig_nbformat": 4,
  "vscode": {
   "interpreter": {
    "hash": "98b374e99358913c1c42b6b370ad32794c013153bdea03f97f4485417b03b617"
   }
  }
 },
 "nbformat": 4,
 "nbformat_minor": 2
}
