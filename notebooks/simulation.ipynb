{
  "cells": [
    {
      "cell_type": "code",
      "execution_count": 1,
      "metadata": {
        "collapsed": true,
        "execution": {
          "iopub.execute_input": "2022-03-03T11:55:30.634Z",
          "iopub.status.busy": "2022-03-03T11:55:30.629Z",
          "iopub.status.idle": "2022-03-03T11:55:30.644Z",
          "shell.execute_reply": "2022-03-03T11:55:30.652Z"
        },
        "jupyter": {
          "outputs_hidden": false,
          "source_hidden": false
        },
        "nteract": {
          "transient": {
            "deleting": false
          }
        }
      },
      "outputs": [],
      "source": [
        "from random import random\n",
        "from math import floor, log"
      ]
    },
    {
      "cell_type": "code",
      "execution_count": 2,
      "metadata": {
        "collapsed": true,
        "execution": {
          "iopub.execute_input": "2022-02-27T20:02:03.176Z",
          "iopub.status.busy": "2022-02-27T20:02:03.171Z",
          "iopub.status.idle": "2022-02-27T20:02:03.182Z",
          "shell.execute_reply": "2022-02-27T20:02:03.186Z"
        },
        "jupyter": {
          "outputs_hidden": false,
          "source_hidden": false
        },
        "nteract": {
          "transient": {
            "deleting": false
          }
        }
      },
      "outputs": [],
      "source": [
        "def bernoulli(p):\n",
        "  return 1 if random()<p else 0"
      ]
    },
    {
      "cell_type": "code",
      "execution_count": 3,
      "metadata": {
        "collapsed": true,
        "execution": {
          "iopub.execute_input": "2022-02-27T20:03:11.854Z",
          "iopub.status.busy": "2022-02-27T20:03:11.851Z",
          "iopub.status.idle": "2022-02-27T20:03:11.859Z",
          "shell.execute_reply": "2022-02-27T20:03:11.861Z"
        },
        "jupyter": {
          "outputs_hidden": false,
          "source_hidden": false
        },
        "nteract": {
          "transient": {
            "deleting": false
          }
        }
      },
      "outputs": [],
      "source": [
        "def binomial(n,p):\n",
        "  return sum(bernoulli(p) for _ in range(n))"
      ]
    },
    {
      "cell_type": "code",
      "execution_count": 4,
      "metadata": {
        "collapsed": true,
        "execution": {
          "iopub.execute_input": "2022-02-27T20:09:49.879Z",
          "iopub.status.busy": "2022-02-27T20:09:49.876Z",
          "iopub.status.idle": "2022-02-27T20:09:49.884Z",
          "shell.execute_reply": "2022-02-27T20:09:49.887Z"
        },
        "jupyter": {
          "outputs_hidden": false,
          "source_hidden": false
        },
        "nteract": {
          "transient": {
            "deleting": false
          }
        }
      },
      "outputs": [],
      "source": [
        "def uniform(n):\n",
        "  if type(n)==int:\n",
        "    return floor(n*random())\n",
        "  if type(n)==list:\n",
        "    return n[uniform(len(n))]"
      ]
    },
    {
      "cell_type": "code",
      "execution_count": 5,
      "metadata": {
        "collapsed": true,
        "execution": {
          "iopub.execute_input": "2022-03-02T15:07:16.816Z",
          "iopub.status.busy": "2022-03-02T15:07:16.812Z",
          "iopub.status.idle": "2022-03-02T15:07:16.824Z",
          "shell.execute_reply": "2022-03-02T15:07:16.828Z"
        },
        "jupyter": {
          "outputs_hidden": false,
          "source_hidden": false
        },
        "nteract": {
          "transient": {
            "deleting": false
          }
        }
      },
      "outputs": [],
      "source": [
        "def geometric(p):\n",
        "  n=1\n",
        "  while(bernoulli(p)==0):\n",
        "    n+=1\n",
        "  return n"
      ]
    },
    {
      "cell_type": "code",
      "execution_count": 6,
      "metadata": {
        "collapsed": true,
        "execution": {
          "iopub.execute_input": "2022-02-27T20:13:24.586Z",
          "iopub.status.busy": "2022-02-27T20:13:24.583Z",
          "iopub.status.idle": "2022-02-27T20:13:24.594Z",
          "shell.execute_reply": "2022-02-27T20:13:24.601Z"
        },
        "jupyter": {
          "outputs_hidden": false,
          "source_hidden": false
        },
        "nteract": {
          "transient": {
            "deleting": false
          }
        }
      },
      "outputs": [
        {
          "data": {
            "text/plain": [
              "39"
            ]
          },
          "execution_count": 6,
          "metadata": {},
          "output_type": "execute_result"
        }
      ],
      "source": [
        "geometric(.1)"
      ]
    },
    {
      "cell_type": "code",
      "execution_count": 7,
      "metadata": {
        "collapsed": true,
        "execution": {
          "iopub.execute_input": "2022-03-02T15:07:23.626Z",
          "iopub.status.busy": "2022-03-02T15:07:23.622Z",
          "iopub.status.idle": "2022-03-02T15:07:23.634Z",
          "shell.execute_reply": "2022-03-02T15:07:23.638Z"
        },
        "jupyter": {
          "outputs_hidden": false,
          "source_hidden": false
        },
        "nteract": {
          "transient": {
            "deleting": false
          }
        }
      },
      "outputs": [],
      "source": [
        "def geometric(p):\n",
        "  return floor(log(1-random())/log(1-p))+1"
      ]
    },
    {
      "cell_type": "code",
      "execution_count": 8,
      "metadata": {
        "collapsed": true,
        "execution": {
          "iopub.execute_input": "2022-03-02T15:07:24.424Z",
          "iopub.status.busy": "2022-03-02T15:07:24.421Z",
          "iopub.status.idle": "2022-03-02T15:07:24.829Z",
          "shell.execute_reply": "2022-03-02T15:07:24.833Z"
        },
        "jupyter": {
          "outputs_hidden": false,
          "source_hidden": false
        },
        "nteract": {
          "transient": {
            "deleting": false
          }
        }
      },
      "outputs": [
        {
          "data": {
            "text/plain": [
              "10.001596"
            ]
          },
          "execution_count": 8,
          "metadata": {},
          "output_type": "execute_result"
        }
      ],
      "source": [
        "N=1000000\n",
        "sum([geometric(.1) for _ in range(N)])/N"
      ]
    },
    {
      "cell_type": "code",
      "execution_count": 9,
      "metadata": {
        "collapsed": true,
        "execution": {
          "iopub.execute_input": "2022-03-03T12:00:11.815Z",
          "iopub.status.busy": "2022-03-03T12:00:11.811Z",
          "iopub.status.idle": "2022-03-03T12:00:11.822Z",
          "shell.execute_reply": "2022-03-03T12:00:11.828Z"
        },
        "jupyter": {
          "outputs_hidden": false,
          "source_hidden": false
        },
        "nteract": {
          "transient": {
            "deleting": false
          }
        }
      },
      "outputs": [],
      "source": [
        "def fini(proba):\n",
        "  r=random()\n",
        "  s=sum(proba)\n",
        "  sp=0\n",
        "  n=0\n",
        "  for p in proba:\n",
        "    if r>=sp:\n",
        "      n+=1\n",
        "    else:\n",
        "      break\n",
        "    sp+=p/s\n",
        "  return n-1"
      ]
    },
    {
      "cell_type": "code",
      "execution_count": 10,
      "metadata": {
        "collapsed": true,
        "execution": {
          "iopub.execute_input": "2022-03-03T12:00:12.294Z",
          "iopub.status.busy": "2022-03-03T12:00:12.290Z",
          "iopub.status.idle": "2022-03-03T12:00:12.306Z",
          "shell.execute_reply": "2022-03-03T12:00:12.310Z"
        },
        "jupyter": {
          "outputs_hidden": false,
          "source_hidden": false
        },
        "nteract": {
          "transient": {
            "deleting": false
          }
        }
      },
      "outputs": [
        {
          "data": {
            "text/plain": [
              "[0, 2, 0, 0, 0, 3, 3, 3, 0, 3, 0, 3, 3, 0, 3, 3, 3, 0, 0, 0]"
            ]
          },
          "execution_count": 10,
          "metadata": {},
          "output_type": "execute_result"
        }
      ],
      "source": [
        "[fini([10,1,1,10]) for _ in range(20)]"
      ]
    },
    {
      "cell_type": "code",
      "execution_count": 11,
      "metadata": {},
      "outputs": [],
      "source": [
        "def infini(proba):\n",
        "    r=random()\n",
        "    n=0\n",
        "    s=proba(0)\n",
        "    while r>=s:\n",
        "        n+=1\n",
        "        s+=proba(n)\n",
        "    return n"
      ]
    },
    {
      "cell_type": "code",
      "execution_count": 12,
      "metadata": {},
      "outputs": [
        {
          "data": {
            "text/plain": [
              "10.1"
            ]
          },
          "execution_count": 12,
          "metadata": {},
          "output_type": "execute_result"
        }
      ],
      "source": [
        "p=.1\n",
        "sum([infini(lambda n: 0 if n==0 else (1-p)**(n-1)*p) for _ in range(20)])/20"
      ]
    },
    {
      "cell_type": "code",
      "execution_count": 13,
      "metadata": {},
      "outputs": [
        {
          "data": {
            "image/png": "[encoded data removed]",
            "text/plain": [
              "<Figure size 432x288 with 1 Axes>"
            ]
          },
          "metadata": {
            "needs_background": "light"
          },
          "output_type": "display_data"
        }
      ],
      "source": [
        "import seaborn as sns\n",
        "import pandas as pd\n",
        "import numpy as np\n",
        "\n",
        "N=10000\n",
        "n=10\n",
        "p=.3\n",
        "df = pd.DataFrame({\n",
        "    \"custom\": np.array([binomial(n,p) for _ in range(N)]),\n",
        "    \"numpy\": np.random.binomial(n,p,N)\n",
        "})\n",
        "sns.histplot(df.melt(),\n",
        "        x='value', hue='variable', y='frequency',\n",
        "        multiple='dodge',\n",
        "        shrink=.75,\n",
        "        bins=np.arange(-0.5, n+1.5, 1.),\n",
        "        stat='density');"
      ]
    }
  ],
  "metadata": {
    "kernel_info": {
      "name": "python3"
    },
    "kernelspec": {
      "argv": [
        "python",
        "-m",
        "ipykernel_launcher",
        "-f",
        "{connection_file}"
      ],
      "display_name": "Python 3 (ipykernel)",
      "language": "python",
      "metadata": {
        "debugger": true
      },
      "name": "python3"
    },
    "language_info": {
      "codemirror_mode": {
        "name": "ipython",
        "version": 3
      },
      "file_extension": ".py",
      "mimetype": "text/x-python",
      "name": "python",
      "nbconvert_exporter": "python",
      "pygments_lexer": "ipython3",
      "version": "3.10.2"
    },
    "nteract": {
      "version": "0.28.0"
    }
  },
  "nbformat": 4,
  "nbformat_minor": 0
}
