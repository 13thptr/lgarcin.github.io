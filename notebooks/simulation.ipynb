{
  "cells": [
    {
      "cell_type": "code",
      "execution_count": 55,
      "metadata": {
        "collapsed": true,
        "execution": {
          "iopub.execute_input": "2022-03-03T11:55:30.634Z",
          "iopub.status.busy": "2022-03-03T11:55:30.629Z",
          "iopub.status.idle": "2022-03-03T11:55:30.644Z",
          "shell.execute_reply": "2022-03-03T11:55:30.652Z"
        },
        "jupyter": {
          "outputs_hidden": false,
          "source_hidden": false
        },
        "nteract": {
          "transient": {
            "deleting": false
          }
        }
      },
      "outputs": [],
      "source": [
        "from random import random\n",
        "from math import floor, log"
      ]
    },
    {
      "cell_type": "code",
      "execution_count": 56,
      "metadata": {
        "collapsed": true,
        "execution": {
          "iopub.execute_input": "2022-02-27T20:02:03.176Z",
          "iopub.status.busy": "2022-02-27T20:02:03.171Z",
          "iopub.status.idle": "2022-02-27T20:02:03.182Z",
          "shell.execute_reply": "2022-02-27T20:02:03.186Z"
        },
        "jupyter": {
          "outputs_hidden": false,
          "source_hidden": false
        },
        "nteract": {
          "transient": {
            "deleting": false
          }
        }
      },
      "outputs": [],
      "source": [
        "def bernoulli(p):\n",
        "  return 1 if random()<p else 0"
      ]
    },
    {
      "cell_type": "code",
      "execution_count": 57,
      "metadata": {
        "collapsed": true,
        "execution": {
          "iopub.execute_input": "2022-02-27T20:03:11.854Z",
          "iopub.status.busy": "2022-02-27T20:03:11.851Z",
          "iopub.status.idle": "2022-02-27T20:03:11.859Z",
          "shell.execute_reply": "2022-02-27T20:03:11.861Z"
        },
        "jupyter": {
          "outputs_hidden": false,
          "source_hidden": false
        },
        "nteract": {
          "transient": {
            "deleting": false
          }
        }
      },
      "outputs": [],
      "source": [
        "def binomial(n,p):\n",
        "  return sum(bernoulli(p) for _ in range(n))"
      ]
    },
    {
      "cell_type": "code",
      "execution_count": 58,
      "metadata": {
        "collapsed": true,
        "execution": {
          "iopub.execute_input": "2022-02-27T20:09:49.879Z",
          "iopub.status.busy": "2022-02-27T20:09:49.876Z",
          "iopub.status.idle": "2022-02-27T20:09:49.884Z",
          "shell.execute_reply": "2022-02-27T20:09:49.887Z"
        },
        "jupyter": {
          "outputs_hidden": false,
          "source_hidden": false
        },
        "nteract": {
          "transient": {
            "deleting": false
          }
        }
      },
      "outputs": [],
      "source": [
        "def uniform(n):\n",
        "  if type(n)==int:\n",
        "    return floor(n*random())\n",
        "  if type(n)==list:\n",
        "    return n[uniform(len(n))]"
      ]
    },
    {
      "cell_type": "code",
      "execution_count": 59,
      "metadata": {
        "collapsed": true,
        "execution": {
          "iopub.execute_input": "2022-03-02T15:07:16.816Z",
          "iopub.status.busy": "2022-03-02T15:07:16.812Z",
          "iopub.status.idle": "2022-03-02T15:07:16.824Z",
          "shell.execute_reply": "2022-03-02T15:07:16.828Z"
        },
        "jupyter": {
          "outputs_hidden": false,
          "source_hidden": false
        },
        "nteract": {
          "transient": {
            "deleting": false
          }
        }
      },
      "outputs": [],
      "source": [
        "def geometric(p):\n",
        "  n=1\n",
        "  while(bernoulli(p)==0):\n",
        "    n+=1\n",
        "  return n"
      ]
    },
    {
      "cell_type": "code",
      "execution_count": 60,
      "metadata": {
        "collapsed": true,
        "execution": {
          "iopub.execute_input": "2022-03-02T15:07:23.626Z",
          "iopub.status.busy": "2022-03-02T15:07:23.622Z",
          "iopub.status.idle": "2022-03-02T15:07:23.634Z",
          "shell.execute_reply": "2022-03-02T15:07:23.638Z"
        },
        "jupyter": {
          "outputs_hidden": false,
          "source_hidden": false
        },
        "nteract": {
          "transient": {
            "deleting": false
          }
        }
      },
      "outputs": [],
      "source": [
        "def geometric(p):\n",
        "  return floor(log(1-random())/log(1-p))+1"
      ]
    },
    {
      "cell_type": "code",
      "execution_count": 61,
      "metadata": {
        "collapsed": true,
        "execution": {
          "iopub.execute_input": "2022-03-03T12:00:11.815Z",
          "iopub.status.busy": "2022-03-03T12:00:11.811Z",
          "iopub.status.idle": "2022-03-03T12:00:11.822Z",
          "shell.execute_reply": "2022-03-03T12:00:11.828Z"
        },
        "jupyter": {
          "outputs_hidden": false,
          "source_hidden": false
        },
        "nteract": {
          "transient": {
            "deleting": false
          }
        }
      },
      "outputs": [],
      "source": [
        "def fini(proba):\n",
        "  r=random()\n",
        "  s=sum(proba)\n",
        "  sp=proba[0]/s\n",
        "  n=0\n",
        "  while r>=sp:\n",
        "    n+=1\n",
        "    sp+=proba[n]/s\n",
        "  return n"
      ]
    },
    {
      "cell_type": "code",
      "execution_count": 62,
      "metadata": {},
      "outputs": [],
      "source": [
        "def infini(proba):\n",
        "    r=random()\n",
        "    n=0\n",
        "    s=proba(0)\n",
        "    while r>=s:\n",
        "        n+=1\n",
        "        s+=proba(n)\n",
        "    return n"
      ]
    },
    {
      "cell_type": "code",
      "execution_count": 63,
      "metadata": {},
      "outputs": [],
      "source": [
        "import seaborn as sns\n",
        "import pandas as pd\n",
        "import numpy as np\n",
        "import matplotlib.pyplot as plt"
      ]
    },
    {
      "cell_type": "code",
      "execution_count": 71,
      "metadata": {},
      "outputs": [
        {
          "data": {
            "image/png": "[encoded data removed]",
            "text/plain": [
              "<Figure size 432x288 with 1 Axes>"
            ]
          },
          "metadata": {
            "needs_background": "light"
          },
          "output_type": "display_data"
        }
      ],
      "source": [
        "N=10000\n",
        "n=10\n",
        "p=.3\n",
        "df = pd.DataFrame({\n",
        "    \"custom\": np.array([binomial(n,p) for _ in range(N)]),\n",
        "    \"numpy\": np.random.binomial(n,p,N)\n",
        "})\n",
        "sns.histplot(\n",
        "    df.melt(),\n",
        "    x='value',hue='variable',\n",
        "    multiple='dodge',\n",
        "    shrink=.75,\n",
        "    bins=np.arange(-0.5, n+1.5, 1.),\n",
        "    stat='density',)\n",
        "plt.title('Loi binomiale de paramètres '+str(n)+' et '+str(p))\n",
        "plt.xlabel(None)\n",
        "plt.ylabel(None)\n",
        "plt.savefig('../images/2022/03/binomiale.png')"
      ]
    },
    {
      "cell_type": "code",
      "execution_count": 72,
      "metadata": {},
      "outputs": [
        {
          "data": {
            "image/png": "[encoded data removed]",
            "text/plain": [
              "<Figure size 432x288 with 1 Axes>"
            ]
          },
          "metadata": {
            "needs_background": "light"
          },
          "output_type": "display_data"
        }
      ],
      "source": [
        "N=10000\n",
        "p=.3\n",
        "n=15\n",
        "df = pd.DataFrame({\n",
        "    \"custom\": np.array([geometric(p) for _ in range(N)]),\n",
        "    \"numpy\": np.random.geometric(p,N)\n",
        "})\n",
        "sns.histplot(\n",
        "    df.melt(),\n",
        "    x='value', hue='variable',\n",
        "    multiple='dodge',\n",
        "    shrink=.75,\n",
        "    bins=np.arange(0.5, n+1.5, 1.),\n",
        "    stat='density')\n",
        "plt.title('Loi géométrique de paramètre '+str(p))\n",
        "plt.xlabel(None)\n",
        "plt.ylabel(None)\n",
        "plt.savefig('../images/2022/03/geometrique.png')"
      ]
    },
    {
      "cell_type": "code",
      "execution_count": 73,
      "metadata": {},
      "outputs": [
        {
          "data": {
            "image/png": "[encoded data removed]",
            "text/plain": [
              "<Figure size 432x288 with 1 Axes>"
            ]
          },
          "metadata": {
            "needs_background": "light"
          },
          "output_type": "display_data"
        }
      ],
      "source": [
        "N=10000\n",
        "n=10\n",
        "df = pd.DataFrame({\n",
        "    \"Loi uniforme\": np.array([uniform(n) for _ in range(N)]),\n",
        "})\n",
        "sns.histplot(\n",
        "    df,\n",
        "    shrink=.75,\n",
        "    bins=np.arange(-0.5, n+.5, 1.),\n",
        "    stat='density',\n",
        "    legend=False);\n",
        "plt.title('Loi uniforme sur {0,...,'+str(n-1)+'}')\n",
        "plt.xlabel(None)\n",
        "plt.ylabel(None)\n",
        "plt.savefig('../images/2022/03/uniforme.png')"
      ]
    },
    {
      "cell_type": "code",
      "execution_count": 80,
      "metadata": {},
      "outputs": [
        {
          "data": {
            "image/png": "[encoded data removed]",
            "text/plain": [
              "<Figure size 432x288 with 1 Axes>"
            ]
          },
          "metadata": {
            "needs_background": "light"
          },
          "output_type": "display_data"
        }
      ],
      "source": [
        "N=10000\n",
        "p=[0.2,0.3,0.1,0.3,0.1]\n",
        "df = pd.DataFrame({\n",
        "    \"Loi finie\": np.array([fini(p) for _ in range(N)]),\n",
        "})\n",
        "sns.histplot(\n",
        "    df,\n",
        "    shrink=.75,\n",
        "    bins=np.arange(-0.5, len(p)+.5, 1.),\n",
        "    stat='density',\n",
        "    legend=False);\n",
        "plt.title('Loi finie '+str(p))\n",
        "plt.xlabel(None)\n",
        "plt.ylabel(None)\n",
        "plt.savefig('../images/2022/03/finie.png')"
      ]
    },
    {
      "cell_type": "code",
      "execution_count": 76,
      "metadata": {},
      "outputs": [],
      "source": [
        "def fini(proba):\n",
        "  r=random()\n",
        "  s=sum(proba)\n",
        "  sp=proba[0]/s\n",
        "  n=0\n",
        "  while r>=sp:\n",
        "    n+=1\n",
        "    sp+=proba[n]/s\n",
        "  return n"
      ]
    },
    {
      "cell_type": "code",
      "execution_count": null,
      "metadata": {},
      "outputs": [],
      "source": []
    }
  ],
  "metadata": {
    "kernel_info": {
      "name": "python3"
    },
    "kernelspec": {
      "argv": [
        "python",
        "-m",
        "ipykernel_launcher",
        "-f",
        "{connection_file}"
      ],
      "display_name": "Python 3 (ipykernel)",
      "language": "python",
      "metadata": {
        "debugger": true
      },
      "name": "python3"
    },
    "language_info": {
      "codemirror_mode": {
        "name": "ipython",
        "version": 3
      },
      "file_extension": ".py",
      "mimetype": "text/x-python",
      "name": "python",
      "nbconvert_exporter": "python",
      "pygments_lexer": "ipython3",
      "version": "3.10.2"
    },
    "nteract": {
      "version": "0.28.0"
    }
  },
  "nbformat": 4,
  "nbformat_minor": 0
}
